{
 "cells": [
  {
   "cell_type": "markdown",
   "metadata": {
    "id": "4eNq4lCSSQWn"
   },
   "source": [
    "**Instituto Tecnológico de Costa Rica - TEC**\n",
    "\n",
    "***Inteligencia Artificial***\n",
    "\n",
    "*Docente: Kenneth Obando Rodríguez*\n",
    "\n",
    "---\n",
    "# Trabajo Corto 6: Red Neuronal\n",
    "---\n",
    "Estudiantes:\n",
    "- Rolando Mora Cordero\n",
    "- Esteban Guzmán\n",
    "\n",
    "Link del Cuaderno (recuerde configurar el acceso a público):\n",
    "|    \n",
    "- [Link de su respuesta](https://colab.research.google.com/drive/116PDV-WwkNgcNJaGoLzrAq2Roblf1m25?usp=sharing)\n",
    "\n",
    "    **Nota:** Este trabajo tiene como objetivo promover la comprensión de la materia y su importancia en la elección de algoritmos. Los alumnos deben evitar copiar y pegar directamente información de fuentes externas, y en su lugar, demostrar su propio análisis y comprensión.\n",
    "\n",
    "## Entrega\n",
    "Debe entregar un archivo comprimido por el TecDigital, incluyendo un documento pdf con los resultados de los experimentos y pruebas. Fecha de Entrega domingo 10 de noviembre, 2024, a las 22:00 hrs."
   ]
  },
  {
   "cell_type": "markdown",
   "metadata": {
    "id": "onCmI27E3Jit"
   },
   "source": [
    "## Actividad: Creación y Entrenamiento de una Red Neuronal desde Cero\n",
    "Objetivo:\n",
    "\n",
    "1. Comprender los fundamentos de las redes neuronales.\n",
    "2. Implementar una red neuronal simple sin usar frameworks.\n",
    "3. Entrenar la red neuronal para resolver un problema de clasificación.\n",
    "\n",
    "### Descripción:\n",
    "\n",
    "En esta actividad, los estudiantes implementarán una red neuronal simple con una capa oculta para clasificar datos. Se utilizará el lenguaje de programación Python y se evitarán frameworks de aprendizaje automático. La actividad se dividirá en los siguientes pasos:"
   ]
  },
  {
   "cell_type": "code",
   "execution_count": null,
   "metadata": {},
   "outputs": [],
   "source": [
    "import numpy as np"
   ]
  },
  {
   "cell_type": "markdown",
   "metadata": {},
   "source": [
    "### Paso 1: Implementación de las funciones básicas\n",
    "\n",
    "Función de activación: Implementar la función sigmoide como función de activación. En este caso implementa la función sigmoid\n",
    "\n",
    "**Fórmula:**  σ(x) = 1 / (1 + exp(-x))"
   ]
  },
  {
   "cell_type": "code",
   "execution_count": 2,
   "metadata": {
    "id": "lR0PIY3USEAu"
   },
   "outputs": [],
   "source": [
    "def sigmoid(x):\n",
    "  return 1 / (1 + np.exp(-x))"
   ]
  },
  {
   "cell_type": "markdown",
   "metadata": {
    "id": "hiS1Gzl2ShRm"
   },
   "source": [
    "2. **Derivada de la función de activación:** Implementar la derivada de la función sigmoide.\n",
    "\n",
    "**Fórmula:** σ'(x) = σ(x) * (1 - σ(x))\n"
   ]
  },
  {
   "cell_type": "code",
   "execution_count": 3,
   "metadata": {
    "id": "D59kb0dLS4RY"
   },
   "outputs": [],
   "source": [
    "def sigmoid_derivative(x):\n",
    "  return sigmoid(x) * (1 - sigmoid(x))"
   ]
  },
  {
   "cell_type": "markdown",
   "metadata": {
    "id": "dLUnk4o4SjTg"
   },
   "source": [
    "**Paso 2: Inicialización de la red neuronal**\n",
    "\n",
    "1. **Inicializar los pesos:**  Crear matrices de pesos aleatorios para las conexiones entre las capas de entrada, oculta y salida.\n",
    "2. **Definir la arquitectura:** Establecer el número de neuronas en cada capa (entrada, oculta y salida)."
   ]
  },
  {
   "cell_type": "code",
   "execution_count": null,
   "metadata": {
    "id": "cO-pwwHqS1uG"
   },
   "outputs": [],
   "source": [
    "# Inicializar pesos con valores aleatorios entre -1 y 1\n",
    "def initialize_network(input_size, hidden_size, output_size):\n",
    "  # matriz de tamaño (input_size, hidden_size) que contiene los pesos para las conexiones entre la capa de entrada y la capa oculta.\n",
    "  input_hidden_weights = np.random.uniform(-1, 1, (input_size, hidden_size))\n",
    "  #  matriz de tamaño (hidden_size, output_size) que contiene los pesos para las conexiones entre la capa oculta y la capa de salida.\n",
    "  hidden_output_weights = np.random.uniform(-1, 1, (hidden_size, output_size))\n",
    "\n",
    "  return input_hidden_weights, hidden_output_weights"
   ]
  },
  {
   "cell_type": "markdown",
   "metadata": {
    "id": "lWTgU5bVSoag"
   },
   "source": [
    "**Paso 3: Propagación hacia adelante (Forward propagation)**\n",
    "\n",
    "1. **Calcular la salida de la capa oculta:** Multiplicar las entradas por los pesos de la capa de entrada a la oculta y aplicar la función de activación.\n",
    "\n",
    "**Fórmula:** hidden_output = σ(input * input_hidden_weights)\n",
    "\n",
    "2. **Calcular la salida de la capa de salida:** Multiplicar la salida de la capa oculta por los pesos de la capa oculta a la salida y aplicar la función de activación.\n",
    "\n",
    "   **Fórmula:** output = σ(hidden_output * hidden_output_weights)"
   ]
  },
  {
   "cell_type": "code",
   "execution_count": 3,
   "metadata": {
    "id": "xxbf-SifS5sB"
   },
   "outputs": [],
   "source": [
    "def forward_propagation(inputs, input_hidden_weights, hidden_output_weights):\n",
    "  hidden_layer_input = np.dot(inputs, input_hidden_weights)\n",
    "  hidden_layer_output = sigmoid(hidden_layer_input)\n",
    "\n",
    "  output_layer_input = np.dot(hidden_layer_output, hidden_output_weights)\n",
    "  output_layer_output = sigmoid(output_layer_input)\n",
    "\n",
    "  return hidden_layer_output, output_layer_output"
   ]
  },
  {
   "cell_type": "markdown",
   "metadata": {
    "id": "88Q2H8vvSpgk"
   },
   "source": [
    "**Paso 4: Propagación hacia atrás (Backpropagation)**\n",
    "\n",
    "1. **Calcular el error de la capa de salida:** Restar la salida deseada de la salida real.\n",
    "2. **Calcular el error de la capa oculta:** Propagar el error de la capa de salida hacia atrás a través de los pesos y la derivada de la función de activación.\n",
    "3. **Actualizar los pesos:** Ajustar los pesos de la red neuronal en función del error calculado.\n",
    "\n",
    "   **Fórmula:**\n",
    "      * hidden_output_weights += learning_rate * output_error * σ'(output) * hidden_output\n",
    "      * input_hidden_weights += learning_rate * hidden_error * σ'(hidden_output) * input\n"
   ]
  },
  {
   "cell_type": "code",
   "execution_count": null,
   "metadata": {
    "id": "NjoZNN5wS7T6"
   },
   "outputs": [],
   "source": [
    "def backpropagation(inputs, hidden_layer_output, output_layer_output, desired_output, input_hidden_weights, hidden_output_weights, learning_rate):\n",
    "\n",
    "  output_error = desired_output - output_layer_output\n",
    "  output_delta = output_error * sigmoid_derivative(output_layer_output)\n",
    "\n",
    "  hidden_error = np.dot(output_delta, hidden_output_weights.T)\n",
    "  hidden_delta = hidden_error * sigmoid_derivative(hidden_layer_output)\n",
    "\n",
    "  hidden_layer_output = hidden_layer_output.reshape(-1, 1)\n",
    "  output_delta = output_delta.reshape(-1, 1)\n",
    "\n",
    "  hidden_output_weights += learning_rate * np.dot(hidden_layer_output, output_delta.T)\n",
    "\n",
    "\n",
    "  inputs = inputs.reshape(-1, 1)\n",
    "  hidden_delta = hidden_delta.reshape(-1, 1)\n",
    "\n",
    "  input_hidden_weights += learning_rate * np.dot(inputs, hidden_delta.T)\n",
    "\n",
    "  \n",
    "  return input_hidden_weights, hidden_output_weights"
   ]
  },
  {
   "cell_type": "markdown",
   "metadata": {
    "id": "GsEvfDnzSt_j"
   },
   "source": [
    "**Paso 5: Preparación del conjunto de datos de ejemplo**\n",
    "\n",
    "1. **Crear un conjunto de datos:**  Define un conjunto de datos de ejemplo para entrenar la red neuronal. Puedes usar un problema simple como la compuerta XOR."
   ]
  },
  {
   "cell_type": "code",
   "execution_count": null,
   "metadata": {
    "id": "LXITmxp6UGop"
   },
   "outputs": [],
   "source": [
    "# Datos de entrada para la compuerta XOR\n",
    "inputs = np.array([[0, 0], [0, 1], [1, 0], [1, 1]])\n",
    "# Salidas deseadas para la compuerta XOR\n",
    "desired_outputs = np.array([[0], [1], [1], [0]])"
   ]
  },
  {
   "cell_type": "markdown",
   "metadata": {
    "id": "FG8DBCHhT8hQ"
   },
   "source": [
    "**Paso 6: Entrenamiento de la red neuronal**\n",
    "\n",
    "1. **Inicializar la red:** Define la arquitectura de la red (número de neuronas en cada capa) e inicializa los pesos."
   ]
  },
  {
   "cell_type": "code",
   "execution_count": null,
   "metadata": {
    "id": "YGZmN4nwUISZ"
   },
   "outputs": [],
   "source": [
    "# Inicializar la red\n",
    "input_size = 2  # Dos entradas para la compuerta XOR\n",
    "hidden_size = 3  # Tres neuronas en la capa oculta\n",
    "output_size = 1  # Una salida para la compuerta XOR\n",
    "learning_rate = 0.5  # Tasa de aprendizaje\n",
    "epochs = 10000  # Número de épocas de entrenamiento\n",
    "\n",
    "input_hidden_weights, hidden_output_weights = initialize_network(input_size, hidden_size, output_size)\n",
    "\n"
   ]
  },
  {
   "cell_type": "markdown",
   "metadata": {
    "id": "54_Y1rinT9_A"
   },
   "source": [
    "2. **Iterar sobre el conjunto de datos de entrenamiento:** Presentar cada ejemplo de entrenamiento a la red neuronal y realizar la propagación hacia adelante y hacia atrás para ajustar los pesos. Repetir este proceso durante un número determinado de épocas. Reporta el error en cada epoch"
   ]
  },
  {
   "cell_type": "code",
   "execution_count": null,
   "metadata": {
    "colab": {
     "base_uri": "https://localhost:8080/"
    },
    "id": "jrcpXVz3Tunb",
    "outputId": "05808101-d1f9-405a-ed1b-301630963920"
   },
   "outputs": [
    {
     "name": "stdout",
     "output_type": "stream",
     "text": [
      "Epoch 0: Error = 0.4999560582957439\n",
      "Epoch 1000: Error = 0.499193828450708\n",
      "Epoch 2000: Error = 0.3634133851056892\n",
      "Epoch 3000: Error = 0.26937577359019993\n",
      "Epoch 4000: Error = 0.2567869441941798\n",
      "Epoch 5000: Error = 0.2529095765689133\n",
      "Epoch 6000: Error = 0.22827211446350598\n",
      "Epoch 7000: Error = 0.15949675474971042\n",
      "Epoch 8000: Error = 0.12695186799299635\n",
      "Epoch 9000: Error = 0.10766471531841959\n"
     ]
    }
   ],
   "source": [
    "# Iterar sobre el conjunto de datos de entrenamiento\n",
    "for epoch in range(epochs):\n",
    "  ...\n",
    "\n"
   ]
  },
  {
   "cell_type": "markdown",
   "metadata": {
    "id": "ehKmrudfUA7E"
   },
   "source": [
    "**Paso 7: Evaluación de la red neuronal**\n",
    "\n",
    "1. **Presentar nuevos datos a la red:**  Utiliza un conjunto de datos de prueba para evaluar el rendimiento de la red neuronal entrenada."
   ]
  },
  {
   "cell_type": "code",
   "execution_count": null,
   "metadata": {
    "colab": {
     "base_uri": "https://localhost:8080/"
    },
    "id": "HnwgOZp5UoYl",
    "outputId": "d79b29dd-8f83-4963-e71b-bc54035fae01"
   },
   "outputs": [
    {
     "name": "stdout",
     "output_type": "stream",
     "text": [
      "Salidas de la red para los datos de prueba:\n",
      "[[0.12199585]\n",
      " [0.91003382]\n",
      " [0.9150821 ]\n",
      " [0.08201304]]\n",
      "\n",
      "Salidas deseadas:\n",
      "[[0]\n",
      " [1]\n",
      " [1]\n",
      " [0]]\n"
     ]
    }
   ],
   "source": [
    "# Presentar nuevos datos a la red (usando los mismos datos de entrenamiento como ejemplo)\n",
    "hidden_layer_output, test_outputs = forward_propagation(inputs, input_hidden_weights, hidden_output_weights)\n",
    "\n",
    "# Imprimir las salidas de la red para los datos de prueba\n",
    "print(\"Salidas de la red para los datos de prueba:\")\n",
    "print(test_outputs)\n",
    "\n",
    "# Comparar las salidas de la red con las salidas deseadas\n",
    "print(\"\\nSalidas deseadas:\")\n",
    "print(desired_outputs)"
   ]
  }
 ],
 "metadata": {
  "colab": {
   "provenance": []
  },
  "kernelspec": {
   "display_name": "Python 3",
   "name": "python3"
  },
  "language_info": {
   "codemirror_mode": {
    "name": "ipython",
    "version": 3
   },
   "file_extension": ".py",
   "mimetype": "text/x-python",
   "name": "python",
   "nbconvert_exporter": "python",
   "pygments_lexer": "ipython3",
   "version": "3.10.7"
  }
 },
 "nbformat": 4,
 "nbformat_minor": 0
}
